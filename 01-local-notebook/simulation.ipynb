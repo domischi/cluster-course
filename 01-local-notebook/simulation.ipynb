{
 "cells": [
  {
   "cell_type": "markdown",
   "metadata": {},
   "source": [
    "# Intro to Running Stuff on the cluster"
   ]
  },
  {
   "cell_type": "markdown",
   "metadata": {},
   "source": [
    "## Let's introduce the toy problem"
   ]
  },
  {
   "cell_type": "markdown",
   "metadata": {},
   "source": [
    "For this example, we consider the simple toy problem of a damped harmonic oscillator (just to see parameter sweeps and stuff). Hence, we want to solve the equation of motion\n",
    "$$m \\ddot{x} +\\gamma \\dot{x}+k x = 0,$$\n",
    "or as we need it in higher-dimensional but first order form\n",
    "$$\\vec{y}=\\begin{pmatrix}x\\\\\\dot{x}\\end{pmatrix}, \\quad\\frac{\\mathrm{d}}{\\mathrm{d}t}\\vec{y}=\\begin{pmatrix}\\dot{x} \\\\ \\ddot{x}\\end{pmatrix}=\\begin{pmatrix}y_1 \\\\ -\\frac{1}{m}\\left(\\gamma y_1+k y_0\\right)\\end{pmatrix}$$"
   ]
  },
  {
   "cell_type": "code",
   "execution_count": null,
   "metadata": {},
   "outputs": [],
   "source": [
    "import numpy as np\n",
    "from scipy.integrate import solve_ivp\n",
    "import matplotlib.pyplot as plt"
   ]
  },
  {
   "cell_type": "code",
   "execution_count": null,
   "metadata": {},
   "outputs": [],
   "source": [
    "# Let's define the right-hand side of the equation\n",
    "def RHS(t, y, m, gamma, k):\n",
    "    return np.array([y[1], -(gamma*y[1]+k*y[0])/m])"
   ]
  },
  {
   "cell_type": "markdown",
   "metadata": {},
   "source": [
    "Let's try a simple example, and just integrate for $\\gamma=0$"
   ]
  },
  {
   "cell_type": "code",
   "execution_count": null,
   "metadata": {},
   "outputs": [],
   "source": [
    "t_min = 0\n",
    "t_max = 25.\n",
    "T = np.linspace(t_min, t_max, 101)\n",
    "sol=solve_ivp(RHS, t_span=(t_min, t_max), y0=(1., 0.), args=(1.,0.,1.), t_eval=T)\n",
    "plt.plot(T, sol['y'][0])"
   ]
  },
  {
   "cell_type": "markdown",
   "metadata": {},
   "source": [
    "Great, now let's package it up to make a nice figure for each set of parameters."
   ]
  },
  {
   "cell_type": "code",
   "execution_count": null,
   "metadata": {},
   "outputs": [],
   "source": [
    "def do_one_parameter_config(m, gamma, k, t_min=0., t_max=25., y0=1., dydt0=0.):\n",
    "    T = np.linspace(t_min, t_max, 101)\n",
    "    sol=solve_ivp(RHS, t_span=(t_min, t_max), y0=(y0,dydt0), args=(m, gamma, k), t_eval=T)\n",
    "    plt.figure()\n",
    "    plt.plot(T, sol['y'][0])\n",
    "    plt.xlabel(r'$t$', fontsize=14)\n",
    "    plt.ylabel(r'$x$', fontsize=14)\n",
    "    plt.title(f'$m={m:.2e},~\\gamma={gamma:.2e},~k={k:.2e}$')\n",
    "    \n",
    "do_one_parameter_config(1,0,1)"
   ]
  },
  {
   "cell_type": "markdown",
   "metadata": {},
   "source": [
    "Now let's sweep over a set of $\\gamma$'s and check when the system becomes overdamped"
   ]
  },
  {
   "cell_type": "code",
   "execution_count": null,
   "metadata": {},
   "outputs": [],
   "source": [
    "for gamma in [0.1,0.5,1,2,10]:\n",
    "    do_one_parameter_config(1,gamma,1)"
   ]
  },
  {
   "cell_type": "markdown",
   "metadata": {},
   "source": [
    "Let's store the result for later use in publication"
   ]
  },
  {
   "cell_type": "code",
   "execution_count": null,
   "metadata": {},
   "outputs": [],
   "source": [
    "import os\n",
    "\n",
    "DATA_DIR = './data'\n",
    "os.makedirs(DATA_DIR, exist_ok=True)\n",
    "\n",
    "def do_one_parameter_config(m, gamma, k, t_min=0., t_max=25., y0=1., dydt0=0., SAVE=False):\n",
    "    T = np.linspace(t_min, t_max, 101)\n",
    "    sol=solve_ivp(RHS, t_span=(t_min, t_max), y0=(y0,dydt0), args=(m, gamma, k), t_eval=T)\n",
    "    plt.figure()\n",
    "    plt.plot(T, sol['y'][0])\n",
    "    plt.xlabel(r'$t$', fontsize=14)\n",
    "    plt.ylabel(r'$x$', fontsize=14)\n",
    "    plt.title(f'$m={m:.2e},~\\gamma={gamma:.2e},~k={k:.2e}$')\n",
    "    if SAVE:\n",
    "        plt.savefig(f'{DATA_DIR}/very-important-figure-{m=:.2f}_{gamma=:.2f}_{k=:.2f}.png')\n",
    "        plt.close()\n",
    "    else:\n",
    "        plt.show()\n",
    "    \n",
    "for gamma in [0.1,0.5,1,2,10]:\n",
    "    do_one_parameter_config(1,gamma,1, SAVE=True)\n"
   ]
  }
 ],
 "metadata": {
  "kernelspec": {
   "display_name": "Python 3",
   "language": "python",
   "name": "python3"
  },
  "language_info": {
   "codemirror_mode": {
    "name": "ipython",
    "version": 3
   },
   "file_extension": ".py",
   "mimetype": "text/x-python",
   "name": "python",
   "nbconvert_exporter": "python",
   "pygments_lexer": "ipython3",
   "version": "3.8.10"
  }
 },
 "nbformat": 4,
 "nbformat_minor": 4
}
